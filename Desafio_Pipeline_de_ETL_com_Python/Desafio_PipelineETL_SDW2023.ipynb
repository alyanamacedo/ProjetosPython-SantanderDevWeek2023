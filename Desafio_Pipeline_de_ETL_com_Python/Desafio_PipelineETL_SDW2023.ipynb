{
 "cells": [
  {
   "cell_type": "markdown",
   "id": "10194c9d",
   "metadata": {},
   "source": [
    "### Extract (Extração)"
   ]
  },
  {
   "cell_type": "code",
   "execution_count": 2,
   "id": "9aa9d6fd",
   "metadata": {},
   "outputs": [
    {
     "name": "stdout",
     "output_type": "stream",
     "text": [
      "[64, 65, 83, 60, 75, 54, 52, 84, 67, 71, 85, 53, 62, 55, 81, 58, 69, 82, 72, 76, 61, 74]\n"
     ]
    }
   ],
   "source": [
    "import pandas as pd\n",
    "\n",
    "# Caminho dos diretórios\n",
    "dir_importados = 'arquivos_importados'\n",
    "dir_relatorios = 'relatorios'\n",
    "\n",
    "df_candidatos_selecionados = pd.read_excel(f\"{dir_importados}/Ciclo1JovemPotiguar_VersaoCompleta.xlsx\")\n",
    "cursos_ids = df_candidatos_selecionados['jp_id_curso'].unique().tolist()\n",
    "print(cursos_ids)"
   ]
  },
  {
   "cell_type": "markdown",
   "id": "f7aa7862",
   "metadata": {},
   "source": [
    "### Transform (Transformação ou Enriquecimento)"
   ]
  },
  {
   "cell_type": "code",
   "execution_count": null,
   "id": "30ce3e17",
   "metadata": {},
   "outputs": [],
   "source": [
    "import numpy as np\n",
    "\n",
    "def buscar_curso(curso_id):\n",
    "    df_curso = df_candidatos_selecionados[df_candidatos_selecionados['jp_id_curso'] == curso_id]\n",
    "\n",
    "    # Condições para o candidato ser considerado ELEGÍVEL:\n",
    "    # (1) Selecionar a idade entre 16 e 29 anos, exceto nos cursos que consideram entre 18 e 29 anos\n",
    "    condicao1 = (df_curso['idade_inicio_curso'] >= 15.5) & (df_curso['idade_inicio_curso'] < 30)\n",
    "    condicao2 = (df_curso['jp_nome_curso'] == 'Auxiliar de Manutenção Predial') | (df_curso['jp_nome_curso'] == 'Eletricista de Sistemas de Energias Renováveis')\n",
    "    condicao3 = (df_curso['idade_inicio_curso'] >= 17.5) & (df_curso['idade_inicio_curso'] < 30)\n",
    "    # (2) Pertencer ao CadÚnico\n",
    "    condicao4 = df_curso['cadunico_nis'] > 0\n",
    "    # (3) Ter concluído o Ensino Fundamental. Todos que se inscreveram autodeclaram ter concluído o Ensino Fundamental\n",
    "    \n",
    "    if not df_curso.empty:\n",
    "        dict_curso = {\n",
    "            'ID CURSO': curso_id,\n",
    "            'NOME CURSO': df_curso['jp_nome_curso'].unique().tolist()[0],\n",
    "            'CAMPUS': df_curso['jp_campus'].unique().tolist()[0],\n",
    "            'VAGAS': int(np.sum(df_curso['Situação'] == 'APROVADO')),\n",
    "            'DATA INÍCIO': pd.to_datetime(df_curso['jp_inicio_curso'].unique().tolist()[0]).strftime('%d/%m/%Y'),\n",
    "            'TURNO' : df_curso['jp_turno_curso'].unique().tolist()[0],\n",
    "            'INSCRITOS': len(df_curso['jp_id_curso']),\n",
    "            'ELEGÍVEIS': int(np.sum(((condicao1 & ~condicao2) | (condicao2 & condicao3)) & condicao4)),\n",
    "            'IDADE VÁLIDA': int(np.sum((condicao1 & ~condicao2) | (condicao2 & condicao3))),\n",
    "            'NIS NO CADUNICO': int(np.sum(condicao4)),\n",
    "            'EGRESSOS NA INSCRIÇÃO': int(np.sum(df_curso['jp_egresso'] == 'Sim')),\n",
    "            'EGRESSOS NA FUNDASE': int(np.sum(df_curso['fundase_cpf'] == 'Sim')),\n",
    "            'PRETOS E PARDOS': int(np.sum((df_curso['cadunico_etnia'] == 'Preta') | (df_curso['cadunico_etnia'] == 'Parda'))),\n",
    "            'MULHERES': int(np.sum(df_curso['cadunico_sexo'] == 'Feminino')),\n",
    "            'PCDs': int(np.sum(df_curso['cadunico_deficiencia'] == 'Sim')),\n",
    "            'TRANSEXUAIS': int(np.sum(df_curso['jp_trans'] == 'Sim')),\n",
    "            'DOC COOPERATIVA': int(np.sum(df_curso['Doc válido'] == 'Sim'))\n",
    "        }\n",
    "        return dict_curso\n",
    "    else:\n",
    "        return f\"Curso com ID {curso_id} não encontrado.\"\n",
    "    \n",
    "\n",
    "cursos = [curso for id in cursos_ids if (curso := buscar_curso(id)) is not None] # ':=' permite concatenar os cursos em uma lista\n",
    "print(cursos)"
   ]
  },
  {
   "cell_type": "markdown",
   "id": "47ff122a",
   "metadata": {},
   "source": [
    "### Load (Carregamento)"
   ]
  },
  {
   "cell_type": "code",
   "execution_count": 4,
   "id": "89ce893c",
   "metadata": {},
   "outputs": [
    {
     "name": "stdout",
     "output_type": "stream",
     "text": [
      "Exportação concluída!\n"
     ]
    }
   ],
   "source": [
    "pd.DataFrame(cursos).to_excel(f\"{dir_relatorios}/cursos_lista.xlsx\", index=False)\n",
    "print('Exportação concluída!')"
   ]
  }
 ],
 "metadata": {
  "kernelspec": {
   "display_name": "Python 3",
   "language": "python",
   "name": "python3"
  },
  "language_info": {
   "codemirror_mode": {
    "name": "ipython",
    "version": 3
   },
   "file_extension": ".py",
   "mimetype": "text/x-python",
   "name": "python",
   "nbconvert_exporter": "python",
   "pygments_lexer": "ipython3",
   "version": "3.13.2"
  }
 },
 "nbformat": 4,
 "nbformat_minor": 5
}
