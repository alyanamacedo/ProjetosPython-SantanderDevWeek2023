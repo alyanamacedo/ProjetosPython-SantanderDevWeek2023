{
 "cells": [
  {
   "cell_type": "markdown",
   "id": "10194c9d",
   "metadata": {},
   "source": [
    "### Extract (Extração)"
   ]
  },
  {
   "cell_type": "code",
   "execution_count": 2,
   "id": "9aa9d6fd",
   "metadata": {},
   "outputs": [
    {
     "name": "stdout",
     "output_type": "stream",
     "text": [
      "[64, 65, 83, 60, 75, 54, 52, 84, 67, 71, 85, 53, 62, 55, 81, 58, 69, 82, 72, 76, 61, 74]\n"
     ]
    }
   ],
   "source": [
    "import pandas as pd\n",
    "\n",
    "# Caminho dos diretórios\n",
    "dir_importados = 'arquivos_importados'\n",
    "dir_relatorios = 'relatorios'\n",
    "\n",
    "df_candidatos_selecionados = pd.read_excel(f\"{dir_importados}/Ciclo1JovemPotiguar_VersaoCompleta.xlsx\")\n",
    "cursos_ids = df_candidatos_selecionados['jp_id_curso'].unique().tolist()\n",
    "print(cursos_ids)"
   ]
  },
  {
   "cell_type": "markdown",
   "id": "f7aa7862",
   "metadata": {},
   "source": [
    "### Transform (Transformação ou Enriquecimento)"
   ]
  },
  {
   "cell_type": "code",
   "execution_count": 3,
   "id": "30ce3e17",
   "metadata": {},
   "outputs": [
    {
     "name": "stdout",
     "output_type": "stream",
     "text": [
      "[{'ID CURSO': 64, 'NOME CURSO': 'Operador(a) de Máquinas e Implementos Agrícolas', 'CAMPUS': 'IFRN - campus Apodi', 'VAGAS': 60, 'DATA INÍCIO': '05/11/2024', 'TURNO': 'Vespertino', 'INSCRITOS': 63, 'ELEGÍVEIS': 48, 'IDADE VÁLIDA': 48, 'NIS NO CADUNICO': 50, 'EGRESSOS NA INSCRIÇÃO': 9, 'EGRESSOS NA FUNDASE': 0, 'PRETOS E PARDOS': 28, 'MULHERES': 19, 'PCDs': 1, 'TRANSEXUAIS': 5, 'DOC COOPERATIVA': 14}, {'ID CURSO': 65, 'NOME CURSO': 'Operador(a) de Máquinas e Implementos Agrícolas', 'CAMPUS': 'IFRN - campus Ipanguaçu', 'VAGAS': 30, 'DATA INÍCIO': '05/11/2024', 'TURNO': 'Vespertino', 'INSCRITOS': 50, 'ELEGÍVEIS': 43, 'IDADE VÁLIDA': 43, 'NIS NO CADUNICO': 45, 'EGRESSOS NA INSCRIÇÃO': 2, 'EGRESSOS NA FUNDASE': 0, 'PRETOS E PARDOS': 29, 'MULHERES': 18, 'PCDs': 0, 'TRANSEXUAIS': 0, 'DOC COOPERATIVA': 2}, {'ID CURSO': 83, 'NOME CURSO': 'Editor(a) de Vídeo', 'CAMPUS': 'IFRN - campus Natal Centro Histórico', 'VAGAS': 30, 'DATA INÍCIO': '04/11/2024', 'TURNO': 'Noturno', 'INSCRITOS': 134, 'ELEGÍVEIS': 85, 'IDADE VÁLIDA': 85, 'NIS NO CADUNICO': 90, 'EGRESSOS NA INSCRIÇÃO': 6, 'EGRESSOS NA FUNDASE': 0, 'PRETOS E PARDOS': 60, 'MULHERES': 44, 'PCDs': 6, 'TRANSEXUAIS': 2, 'DOC COOPERATIVA': 0}, {'ID CURSO': 60, 'NOME CURSO': 'Programador(a) Web', 'CAMPUS': 'IFRN - Campus São Paulo do Potengi', 'VAGAS': 30, 'DATA INÍCIO': '04/11/2024', 'TURNO': 'Noturno', 'INSCRITOS': 174, 'ELEGÍVEIS': 158, 'IDADE VÁLIDA': 158, 'NIS NO CADUNICO': 161, 'EGRESSOS NA INSCRIÇÃO': 22, 'EGRESSOS NA FUNDASE': 0, 'PRETOS E PARDOS': 131, 'MULHERES': 88, 'PCDs': 1, 'TRANSEXUAIS': 6, 'DOC COOPERATIVA': 0}, {'ID CURSO': 75, 'NOME CURSO': 'Montador(a) e reparador(a) de computadores', 'CAMPUS': 'IFRN - campus Nova Cruz', 'VAGAS': 30, 'DATA INÍCIO': '05/11/2024', 'TURNO': 'Noturno', 'INSCRITOS': 140, 'ELEGÍVEIS': 98, 'IDADE VÁLIDA': 98, 'NIS NO CADUNICO': 98, 'EGRESSOS NA INSCRIÇÃO': 6, 'EGRESSOS NA FUNDASE': 0, 'PRETOS E PARDOS': 75, 'MULHERES': 29, 'PCDs': 1, 'TRANSEXUAIS': 2, 'DOC COOPERATIVA': 0}, {'ID CURSO': 54, 'NOME CURSO': 'Vendedor(a)', 'CAMPUS': 'IFRN - campus Nova Cruz', 'VAGAS': 30, 'DATA INÍCIO': '05/11/2024', 'TURNO': 'Noturno', 'INSCRITOS': 142, 'ELEGÍVEIS': 112, 'IDADE VÁLIDA': 112, 'NIS NO CADUNICO': 121, 'EGRESSOS NA INSCRIÇÃO': 12, 'EGRESSOS NA FUNDASE': 0, 'PRETOS E PARDOS': 92, 'MULHERES': 87, 'PCDs': 1, 'TRANSEXUAIS': 5, 'DOC COOPERATIVA': 0}, {'ID CURSO': 52, 'NOME CURSO': 'Vendedor(a)', 'CAMPUS': 'IFRN - campus Natal Zona Norte', 'VAGAS': 30, 'DATA INÍCIO': '05/11/2024', 'TURNO': 'Matutino', 'INSCRITOS': 160, 'ELEGÍVEIS': 129, 'IDADE VÁLIDA': 129, 'NIS NO CADUNICO': 134, 'EGRESSOS NA INSCRIÇÃO': 35, 'EGRESSOS NA FUNDASE': 0, 'PRETOS E PARDOS': 103, 'MULHERES': 95, 'PCDs': 6, 'TRANSEXUAIS': 19, 'DOC COOPERATIVA': 0}, {'ID CURSO': 84, 'NOME CURSO': 'Operador de Gravação e Edição de Áudio', 'CAMPUS': 'IFRN - campus Natal Centro Histórico', 'VAGAS': 30, 'DATA INÍCIO': '04/11/2024', 'TURNO': 'Noturno', 'INSCRITOS': 70, 'ELEGÍVEIS': 50, 'IDADE VÁLIDA': 50, 'NIS NO CADUNICO': 51, 'EGRESSOS NA INSCRIÇÃO': 8, 'EGRESSOS NA FUNDASE': 0, 'PRETOS E PARDOS': 35, 'MULHERES': 24, 'PCDs': 2, 'TRANSEXUAIS': 5, 'DOC COOPERATIVA': 0}, {'ID CURSO': 67, 'NOME CURSO': 'Eletricista de Sistemas de Energias Renováveis', 'CAMPUS': 'IFRN - campus Caicó', 'VAGAS': 30, 'DATA INÍCIO': '04/11/2024', 'TURNO': 'Noturno', 'INSCRITOS': 59, 'ELEGÍVEIS': 37, 'IDADE VÁLIDA': 37, 'NIS NO CADUNICO': 47, 'EGRESSOS NA INSCRIÇÃO': 6, 'EGRESSOS NA FUNDASE': 0, 'PRETOS E PARDOS': 15, 'MULHERES': 15, 'PCDs': 1, 'TRANSEXUAIS': 0, 'DOC COOPERATIVA': 0}, {'ID CURSO': 71, 'NOME CURSO': 'Eletricista de Sistemas de Energias Renováveis', 'CAMPUS': 'IFRN - campus Natal Central', 'VAGAS': 30, 'DATA INÍCIO': '04/11/2024', 'TURNO': 'Noturno', 'INSCRITOS': 290, 'ELEGÍVEIS': 158, 'IDADE VÁLIDA': 158, 'NIS NO CADUNICO': 180, 'EGRESSOS NA INSCRIÇÃO': 35, 'EGRESSOS NA FUNDASE': 0, 'PRETOS E PARDOS': 130, 'MULHERES': 60, 'PCDs': 8, 'TRANSEXUAIS': 11, 'DOC COOPERATIVA': 0}, {'ID CURSO': 85, 'NOME CURSO': 'Desenvolvedor(a) de aplicativos para mídias digitais', 'CAMPUS': 'IFRN - campus Caicó', 'VAGAS': 30, 'DATA INÍCIO': '04/11/2024', 'TURNO': 'Matutino', 'INSCRITOS': 48, 'ELEGÍVEIS': 44, 'IDADE VÁLIDA': 44, 'NIS NO CADUNICO': 44, 'EGRESSOS NA INSCRIÇÃO': 4, 'EGRESSOS NA FUNDASE': 0, 'PRETOS E PARDOS': 19, 'MULHERES': 24, 'PCDs': 1, 'TRANSEXUAIS': 2, 'DOC COOPERATIVA': 0}, {'ID CURSO': 53, 'NOME CURSO': 'Vendedor(a)', 'CAMPUS': 'IFRN - campus Natal Zona Norte', 'VAGAS': 30, 'DATA INÍCIO': '05/11/2024', 'TURNO': 'Vespertino', 'INSCRITOS': 191, 'ELEGÍVEIS': 153, 'IDADE VÁLIDA': 153, 'NIS NO CADUNICO': 157, 'EGRESSOS NA INSCRIÇÃO': 31, 'EGRESSOS NA FUNDASE': 0, 'PRETOS E PARDOS': 118, 'MULHERES': 100, 'PCDs': 12, 'TRANSEXUAIS': 11, 'DOC COOPERATIVA': 0}, {'ID CURSO': 62, 'NOME CURSO': 'Auxiliar de Manutenção Predial', 'CAMPUS': 'IFRN - campus Natal Central', 'VAGAS': 30, 'DATA INÍCIO': '04/11/2024', 'TURNO': 'Noturno', 'INSCRITOS': 96, 'ELEGÍVEIS': 54, 'IDADE VÁLIDA': 54, 'NIS NO CADUNICO': 63, 'EGRESSOS NA INSCRIÇÃO': 17, 'EGRESSOS NA FUNDASE': 0, 'PRETOS E PARDOS': 50, 'MULHERES': 25, 'PCDs': 4, 'TRANSEXUAIS': 10, 'DOC COOPERATIVA': 0}, {'ID CURSO': 55, 'NOME CURSO': 'Vendedor(a)', 'CAMPUS': 'IFRN - Campus Santa Cruz', 'VAGAS': 30, 'DATA INÍCIO': '04/11/2024', 'TURNO': 'Noturno', 'INSCRITOS': 87, 'ELEGÍVEIS': 70, 'IDADE VÁLIDA': 70, 'NIS NO CADUNICO': 76, 'EGRESSOS NA INSCRIÇÃO': 8, 'EGRESSOS NA FUNDASE': 0, 'PRETOS E PARDOS': 54, 'MULHERES': 45, 'PCDs': 4, 'TRANSEXUAIS': 5, 'DOC COOPERATIVA': 0}, {'ID CURSO': 81, 'NOME CURSO': 'Auxiliar de cozinha', 'CAMPUS': 'IFRN - campus Currais Novos', 'VAGAS': 30, 'DATA INÍCIO': '04/11/2024', 'TURNO': 'Noturno', 'INSCRITOS': 146, 'ELEGÍVEIS': 119, 'IDADE VÁLIDA': 119, 'NIS NO CADUNICO': 128, 'EGRESSOS NA INSCRIÇÃO': 30, 'EGRESSOS NA FUNDASE': 0, 'PRETOS E PARDOS': 61, 'MULHERES': 97, 'PCDs': 5, 'TRANSEXUAIS': 7, 'DOC COOPERATIVA': 0}, {'ID CURSO': 58, 'NOME CURSO': 'Programador(a) Web', 'CAMPUS': 'IFRN - campus Macau', 'VAGAS': 30, 'DATA INÍCIO': '04/11/2024', 'TURNO': 'Noturno', 'INSCRITOS': 191, 'ELEGÍVEIS': 137, 'IDADE VÁLIDA': 137, 'NIS NO CADUNICO': 140, 'EGRESSOS NA INSCRIÇÃO': 22, 'EGRESSOS NA FUNDASE': 0, 'PRETOS E PARDOS': 116, 'MULHERES': 67, 'PCDs': 12, 'TRANSEXUAIS': 4, 'DOC COOPERATIVA': 0}, {'ID CURSO': 69, 'NOME CURSO': 'Eletricista de Sistemas de Energias Renováveis', 'CAMPUS': 'IFRN - campus Mossoró', 'VAGAS': 30, 'DATA INÍCIO': '05/11/2024', 'TURNO': 'Matutino', 'INSCRITOS': 71, 'ELEGÍVEIS': 37, 'IDADE VÁLIDA': 37, 'NIS NO CADUNICO': 48, 'EGRESSOS NA INSCRIÇÃO': 6, 'EGRESSOS NA FUNDASE': 0, 'PRETOS E PARDOS': 31, 'MULHERES': 23, 'PCDs': 3, 'TRANSEXUAIS': 6, 'DOC COOPERATIVA': 0}, {'ID CURSO': 82, 'NOME CURSO': 'Agente Cultural', 'CAMPUS': 'IFRN - campus Natal Centro Histórico', 'VAGAS': 30, 'DATA INÍCIO': '04/11/2024', 'TURNO': 'Noturno', 'INSCRITOS': 93, 'ELEGÍVEIS': 57, 'IDADE VÁLIDA': 57, 'NIS NO CADUNICO': 60, 'EGRESSOS NA INSCRIÇÃO': 11, 'EGRESSOS NA FUNDASE': 0, 'PRETOS E PARDOS': 46, 'MULHERES': 40, 'PCDs': 1, 'TRANSEXUAIS': 9, 'DOC COOPERATIVA': 0}, {'ID CURSO': 72, 'NOME CURSO': 'Condutor de Turismo em Unidades de Conservação Ambiental Local', 'CAMPUS': 'IFRN - campus Caicó', 'VAGAS': 30, 'DATA INÍCIO': '04/11/2024', 'TURNO': 'Noturno', 'INSCRITOS': 34, 'ELEGÍVEIS': 31, 'IDADE VÁLIDA': 31, 'NIS NO CADUNICO': 32, 'EGRESSOS NA INSCRIÇÃO': 5, 'EGRESSOS NA FUNDASE': 0, 'PRETOS E PARDOS': 12, 'MULHERES': 20, 'PCDs': 0, 'TRANSEXUAIS': 4, 'DOC COOPERATIVA': 0}, {'ID CURSO': 76, 'NOME CURSO': 'Montador(a) e reparador(a) de computadores', 'CAMPUS': 'IFRN - campus Currais Novos', 'VAGAS': 30, 'DATA INÍCIO': '04/11/2024', 'TURNO': 'Noturno', 'INSCRITOS': 163, 'ELEGÍVEIS': 140, 'IDADE VÁLIDA': 140, 'NIS NO CADUNICO': 142, 'EGRESSOS NA INSCRIÇÃO': 13, 'EGRESSOS NA FUNDASE': 0, 'PRETOS E PARDOS': 59, 'MULHERES': 57, 'PCDs': 5, 'TRANSEXUAIS': 3, 'DOC COOPERATIVA': 0}, {'ID CURSO': 61, 'NOME CURSO': 'Auxiliar de Manutenção Predial', 'CAMPUS': 'IFRN - campus Mossoró', 'VAGAS': 30, 'DATA INÍCIO': '04/11/2024', 'TURNO': 'Noturno', 'INSCRITOS': 35, 'ELEGÍVEIS': 19, 'IDADE VÁLIDA': 19, 'NIS NO CADUNICO': 29, 'EGRESSOS NA INSCRIÇÃO': 8, 'EGRESSOS NA FUNDASE': 0, 'PRETOS E PARDOS': 19, 'MULHERES': 14, 'PCDs': 0, 'TRANSEXUAIS': 4, 'DOC COOPERATIVA': 0}, {'ID CURSO': 74, 'NOME CURSO': 'Condutor de Turismo em Unidades de Conservação Ambiental Local', 'CAMPUS': 'IFRN - campus Currais Novos', 'VAGAS': 30, 'DATA INÍCIO': '04/11/2024', 'TURNO': 'Noturno', 'INSCRITOS': 62, 'ELEGÍVEIS': 51, 'IDADE VÁLIDA': 51, 'NIS NO CADUNICO': 52, 'EGRESSOS NA INSCRIÇÃO': 12, 'EGRESSOS NA FUNDASE': 0, 'PRETOS E PARDOS': 21, 'MULHERES': 38, 'PCDs': 1, 'TRANSEXUAIS': 8, 'DOC COOPERATIVA': 0}]\n"
     ]
    }
   ],
   "source": [
    "import numpy as np\n",
    "\n",
    "def buscar_curso(curso_id):\n",
    "    df_curso = df_candidatos_selecionados[df_candidatos_selecionados['jp_id_curso'] == curso_id]\n",
    "\n",
    "    # Condições para o candidato ser considerado ELEGÍVEL:\n",
    "    # (1) Selecionar a idade entre 16 e 29 anos, exceto nos cursos que consideram entre 18 e 29 anos\n",
    "    condicao1 = (df_curso['idade_inicio_curso'] >= 15.5) & (df_curso['idade_inicio_curso'] < 30)\n",
    "    condicao2 = (df_curso['jp_nome_curso'] == 'Auxiliar de Manutenção Predial') | (df_curso['jp_nome_curso'] == 'Eletricista de Sistemas de Energias Renováveis')\n",
    "    condicao3 = (df_curso['idade_inicio_curso'] >= 17.5) & (df_curso['idade_inicio_curso'] < 30)\n",
    "    # (2) Pertencer ao CadÚnico\n",
    "    condicao4 = df_curso['cadunico_nis'] > 0\n",
    "    # (3) Ter concluído o Ensino Fundamental. Todos que se inscreveram autodeclaram ter concluído o Ensino Fundamental\n",
    "    \n",
    "    if not df_curso.empty:\n",
    "        dict_curso = {\n",
    "            'ID CURSO': curso_id,\n",
    "            'NOME CURSO': df_curso['jp_nome_curso'].unique().tolist()[0],\n",
    "            'CAMPUS': df_curso['jp_campus'].unique().tolist()[0],\n",
    "            'VAGAS': int(np.sum(df_curso['Situação'] == 'APROVADO')),\n",
    "            'DATA INÍCIO': pd.to_datetime(df_curso['jp_inicio_curso'].unique().tolist()[0]).strftime('%d/%m/%Y'),\n",
    "            'TURNO' : df_curso['jp_turno_curso'].unique().tolist()[0],\n",
    "            'INSCRITOS': len(df_curso['jp_id_curso']),\n",
    "            'ELEGÍVEIS': int(np.sum(((condicao1 & ~condicao2) | (condicao2 & condicao3)) & condicao4)),\n",
    "            'IDADE VÁLIDA': int(np.sum((condicao1 & ~condicao2) | (condicao2 & condicao3))),\n",
    "            'NIS NO CADUNICO': int(np.sum(condicao4)),\n",
    "            'EGRESSOS NA INSCRIÇÃO': int(np.sum(df_curso['jp_egresso'] == 'Sim')),\n",
    "            'EGRESSOS NA FUNDASE': int(np.sum(df_curso['fundase_cpf'] == 'Sim')),\n",
    "            'PRETOS E PARDOS': int(np.sum((df_curso['cadunico_etnia'] == 'Preta') | (df_curso['cadunico_etnia'] == 'Parda'))),\n",
    "            'MULHERES': int(np.sum(df_curso['cadunico_sexo'] == 'Feminino')),\n",
    "            'PCDs': int(np.sum(df_curso['cadunico_deficiencia'] == 'Sim')),\n",
    "            'TRANSEXUAIS': int(np.sum(df_curso['jp_trans'] == 'Sim')),\n",
    "            'DOC COOPERATIVA': int(np.sum(df_curso['Doc válido'] == 'Sim'))\n",
    "        }\n",
    "        return dict_curso\n",
    "    else:\n",
    "        return f\"Curso com ID {curso_id} não encontrado.\"\n",
    "    \n",
    "\n",
    "cursos = [curso for id in cursos_ids if (curso := buscar_curso(id)) is not None] # ':=' permite concatenar os cursos em uma lista\n",
    "print(cursos)"
   ]
  },
  {
   "cell_type": "markdown",
   "id": "47ff122a",
   "metadata": {},
   "source": [
    "### Load (Carregamento)"
   ]
  },
  {
   "cell_type": "code",
   "execution_count": 4,
   "id": "89ce893c",
   "metadata": {},
   "outputs": [
    {
     "name": "stdout",
     "output_type": "stream",
     "text": [
      "Exportação concluída!\n"
     ]
    }
   ],
   "source": [
    "pd.DataFrame(cursos).to_excel(f\"{dir_relatorios}/cursos_lista.xlsx\", index=False)\n",
    "print('Exportação concluída!')"
   ]
  }
 ],
 "metadata": {
  "kernelspec": {
   "display_name": "Python 3",
   "language": "python",
   "name": "python3"
  },
  "language_info": {
   "codemirror_mode": {
    "name": "ipython",
    "version": 3
   },
   "file_extension": ".py",
   "mimetype": "text/x-python",
   "name": "python",
   "nbconvert_exporter": "python",
   "pygments_lexer": "ipython3",
   "version": "3.13.2"
  }
 },
 "nbformat": 4,
 "nbformat_minor": 5
}
